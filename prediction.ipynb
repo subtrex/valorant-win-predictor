{
 "cells": [
  {
   "cell_type": "code",
   "execution_count": 60,
   "id": "422db07e",
   "metadata": {},
   "outputs": [],
   "source": [
    "import pandas as pd\n",
    "import os\n",
    "from sklearn.model_selection import train_test_split\n",
    "from sklearn.pipeline import make_pipeline\n",
    "from sklearn.preprocessing import StandardScaler\n",
    "from nltk.tokenize import word_tokenize\n",
    "from nltk import pos_tag\n",
    "from nltk.corpus import stopwords  \n",
    "from nltk.stem import WordNetLemmatizer\n",
    "from collections import defaultdict\n",
    "from nltk.corpus import wordnet as wn\n",
    "from sklearn.feature_extraction.text import CountVectorizer\n",
    "from sklearn.naive_bayes import MultinomialNB\n",
    "from sklearn.feature_extraction.text import TfidfTransformer\n",
    "from sklearn.tree import DecisionTreeClassifier\n",
    "from sklearn.metrics import classification_report\n",
    "import numpy as np\n",
    "from sklearn.pipeline import Pipeline\n",
    "from sklearn.linear_model import SGDClassifier,LogisticRegression\n",
    "from sklearn import model_selection, naive_bayes \n",
    "from sklearn.svm import SVC\n",
    "from sklearn.tree import ExtraTreeClassifier\n",
    "from sklearn.neural_network import MLPClassifier\n",
    "from sklearn.linear_model import RidgeClassifier\n",
    "from sklearn.ensemble import AdaBoostClassifier\n",
    "from sklearn.ensemble import GradientBoostingClassifier\n",
    "from sklearn.ensemble import RandomForestClassifier"
   ]
  },
  {
   "cell_type": "markdown",
   "id": "052f4493",
   "metadata": {},
   "source": [
    "## Section 1: Prediction using player ratings"
   ]
  },
  {
   "cell_type": "markdown",
   "id": "60d55c11",
   "metadata": {},
   "source": [
    "### Section 1.1. Data Read"
   ]
  },
  {
   "cell_type": "code",
   "execution_count": 61,
   "id": "cacc658c",
   "metadata": {},
   "outputs": [
    {
     "data": {
      "text/html": [
       "<div>\n",
       "<style scoped>\n",
       "    .dataframe tbody tr th:only-of-type {\n",
       "        vertical-align: middle;\n",
       "    }\n",
       "\n",
       "    .dataframe tbody tr th {\n",
       "        vertical-align: top;\n",
       "    }\n",
       "\n",
       "    .dataframe thead th {\n",
       "        text-align: right;\n",
       "    }\n",
       "</style>\n",
       "<table border=\"1\" class=\"dataframe\">\n",
       "  <thead>\n",
       "    <tr style=\"text-align: right;\">\n",
       "      <th></th>\n",
       "      <th>Team_0 (started DFD 1st H)</th>\n",
       "      <th>Team_1 (started ATK 1st H)</th>\n",
       "      <th>Bind</th>\n",
       "      <th>Haven</th>\n",
       "      <th>Split</th>\n",
       "      <th>Ascent</th>\n",
       "      <th>Icebox</th>\n",
       "      <th>Breeze</th>\n",
       "      <th>Team_0_P1</th>\n",
       "      <th>Team_0_P2</th>\n",
       "      <th>Team_0_P3</th>\n",
       "      <th>Team_0_P4</th>\n",
       "      <th>Team_0_P5</th>\n",
       "      <th>Team_1_P1</th>\n",
       "      <th>Team_1_P2</th>\n",
       "      <th>Team_1_P3</th>\n",
       "      <th>Team_1_P4</th>\n",
       "      <th>Team_1_P5</th>\n",
       "      <th>Winner</th>\n",
       "    </tr>\n",
       "  </thead>\n",
       "  <tbody>\n",
       "    <tr>\n",
       "      <th>0</th>\n",
       "      <td>Kansas City Pioneers</td>\n",
       "      <td>Virtuoso</td>\n",
       "      <td>0</td>\n",
       "      <td>0</td>\n",
       "      <td>0</td>\n",
       "      <td>1</td>\n",
       "      <td>0</td>\n",
       "      <td>0</td>\n",
       "      <td>1.09</td>\n",
       "      <td>1.09</td>\n",
       "      <td>1.01</td>\n",
       "      <td>1.15</td>\n",
       "      <td>1.04</td>\n",
       "      <td>0.99</td>\n",
       "      <td>0.95</td>\n",
       "      <td>1.04</td>\n",
       "      <td>0.97</td>\n",
       "      <td>1.14</td>\n",
       "      <td>0</td>\n",
       "    </tr>\n",
       "    <tr>\n",
       "      <th>1</th>\n",
       "      <td>Virtuoso</td>\n",
       "      <td>Kansas City Pioneers</td>\n",
       "      <td>1</td>\n",
       "      <td>0</td>\n",
       "      <td>0</td>\n",
       "      <td>0</td>\n",
       "      <td>0</td>\n",
       "      <td>0</td>\n",
       "      <td>0.99</td>\n",
       "      <td>0.95</td>\n",
       "      <td>1.04</td>\n",
       "      <td>0.97</td>\n",
       "      <td>1.14</td>\n",
       "      <td>1.09</td>\n",
       "      <td>1.09</td>\n",
       "      <td>1.01</td>\n",
       "      <td>1.15</td>\n",
       "      <td>1.04</td>\n",
       "      <td>1</td>\n",
       "    </tr>\n",
       "    <tr>\n",
       "      <th>2</th>\n",
       "      <td>Rise</td>\n",
       "      <td>Cloud9 Blue</td>\n",
       "      <td>0</td>\n",
       "      <td>0</td>\n",
       "      <td>1</td>\n",
       "      <td>0</td>\n",
       "      <td>0</td>\n",
       "      <td>0</td>\n",
       "      <td>1.09</td>\n",
       "      <td>1.10</td>\n",
       "      <td>1.16</td>\n",
       "      <td>1.04</td>\n",
       "      <td>1.07</td>\n",
       "      <td>1.22</td>\n",
       "      <td>0.85</td>\n",
       "      <td>1.10</td>\n",
       "      <td>1.09</td>\n",
       "      <td>1.07</td>\n",
       "      <td>0</td>\n",
       "    </tr>\n",
       "    <tr>\n",
       "      <th>3</th>\n",
       "      <td>Cloud9 Blue</td>\n",
       "      <td>Rise</td>\n",
       "      <td>0</td>\n",
       "      <td>0</td>\n",
       "      <td>0</td>\n",
       "      <td>1</td>\n",
       "      <td>0</td>\n",
       "      <td>0</td>\n",
       "      <td>1.22</td>\n",
       "      <td>0.85</td>\n",
       "      <td>1.10</td>\n",
       "      <td>1.09</td>\n",
       "      <td>1.07</td>\n",
       "      <td>1.09</td>\n",
       "      <td>1.10</td>\n",
       "      <td>1.16</td>\n",
       "      <td>1.04</td>\n",
       "      <td>1.07</td>\n",
       "      <td>1</td>\n",
       "    </tr>\n",
       "    <tr>\n",
       "      <th>4</th>\n",
       "      <td>Luminosity Gaming</td>\n",
       "      <td>Version1</td>\n",
       "      <td>0</td>\n",
       "      <td>1</td>\n",
       "      <td>0</td>\n",
       "      <td>0</td>\n",
       "      <td>0</td>\n",
       "      <td>0</td>\n",
       "      <td>1.15</td>\n",
       "      <td>1.05</td>\n",
       "      <td>1.09</td>\n",
       "      <td>1.07</td>\n",
       "      <td>1.17</td>\n",
       "      <td>1.19</td>\n",
       "      <td>1.03</td>\n",
       "      <td>1.11</td>\n",
       "      <td>1.04</td>\n",
       "      <td>1.01</td>\n",
       "      <td>1</td>\n",
       "    </tr>\n",
       "    <tr>\n",
       "      <th>5</th>\n",
       "      <td>Version1</td>\n",
       "      <td>Luminosity Gaming</td>\n",
       "      <td>0</td>\n",
       "      <td>0</td>\n",
       "      <td>1</td>\n",
       "      <td>0</td>\n",
       "      <td>0</td>\n",
       "      <td>0</td>\n",
       "      <td>1.19</td>\n",
       "      <td>1.03</td>\n",
       "      <td>1.11</td>\n",
       "      <td>1.04</td>\n",
       "      <td>1.01</td>\n",
       "      <td>1.15</td>\n",
       "      <td>1.05</td>\n",
       "      <td>1.09</td>\n",
       "      <td>1.07</td>\n",
       "      <td>1.17</td>\n",
       "      <td>0</td>\n",
       "    </tr>\n",
       "    <tr>\n",
       "      <th>6</th>\n",
       "      <td>Andbox</td>\n",
       "      <td>GenG Esports</td>\n",
       "      <td>0</td>\n",
       "      <td>0</td>\n",
       "      <td>0</td>\n",
       "      <td>0</td>\n",
       "      <td>0</td>\n",
       "      <td>1</td>\n",
       "      <td>1.27</td>\n",
       "      <td>0.98</td>\n",
       "      <td>1.15</td>\n",
       "      <td>1.02</td>\n",
       "      <td>0.98</td>\n",
       "      <td>1.11</td>\n",
       "      <td>0.96</td>\n",
       "      <td>1.24</td>\n",
       "      <td>0.95</td>\n",
       "      <td>0.99</td>\n",
       "      <td>1</td>\n",
       "    </tr>\n",
       "    <tr>\n",
       "      <th>7</th>\n",
       "      <td>Andbox</td>\n",
       "      <td>GenG Esports</td>\n",
       "      <td>0</td>\n",
       "      <td>0</td>\n",
       "      <td>0</td>\n",
       "      <td>0</td>\n",
       "      <td>1</td>\n",
       "      <td>0</td>\n",
       "      <td>1.27</td>\n",
       "      <td>0.98</td>\n",
       "      <td>1.15</td>\n",
       "      <td>1.02</td>\n",
       "      <td>0.98</td>\n",
       "      <td>1.11</td>\n",
       "      <td>0.96</td>\n",
       "      <td>1.24</td>\n",
       "      <td>0.95</td>\n",
       "      <td>0.99</td>\n",
       "      <td>0</td>\n",
       "    </tr>\n",
       "    <tr>\n",
       "      <th>8</th>\n",
       "      <td>GenG Esports</td>\n",
       "      <td>Andbox</td>\n",
       "      <td>0</td>\n",
       "      <td>0</td>\n",
       "      <td>1</td>\n",
       "      <td>0</td>\n",
       "      <td>0</td>\n",
       "      <td>0</td>\n",
       "      <td>1.11</td>\n",
       "      <td>0.96</td>\n",
       "      <td>1.24</td>\n",
       "      <td>0.95</td>\n",
       "      <td>0.99</td>\n",
       "      <td>1.27</td>\n",
       "      <td>0.98</td>\n",
       "      <td>1.15</td>\n",
       "      <td>1.02</td>\n",
       "      <td>0.98</td>\n",
       "      <td>0</td>\n",
       "    </tr>\n",
       "    <tr>\n",
       "      <th>9</th>\n",
       "      <td>Noble</td>\n",
       "      <td>100 Thieves</td>\n",
       "      <td>0</td>\n",
       "      <td>1</td>\n",
       "      <td>0</td>\n",
       "      <td>0</td>\n",
       "      <td>0</td>\n",
       "      <td>0</td>\n",
       "      <td>1.19</td>\n",
       "      <td>1.09</td>\n",
       "      <td>0.98</td>\n",
       "      <td>1.06</td>\n",
       "      <td>0.90</td>\n",
       "      <td>1.26</td>\n",
       "      <td>1.08</td>\n",
       "      <td>1.08</td>\n",
       "      <td>1.05</td>\n",
       "      <td>0.91</td>\n",
       "      <td>1</td>\n",
       "    </tr>\n",
       "  </tbody>\n",
       "</table>\n",
       "</div>"
      ],
      "text/plain": [
       "  Team_0 (started DFD 1st H) Team_1 (started ATK 1st H)  Bind  Haven  Split  \\\n",
       "0       Kansas City Pioneers                   Virtuoso     0      0      0   \n",
       "1                   Virtuoso       Kansas City Pioneers     1      0      0   \n",
       "2                       Rise                Cloud9 Blue     0      0      1   \n",
       "3                Cloud9 Blue                       Rise     0      0      0   \n",
       "4          Luminosity Gaming                   Version1     0      1      0   \n",
       "5                   Version1          Luminosity Gaming     0      0      1   \n",
       "6                     Andbox               GenG Esports     0      0      0   \n",
       "7                     Andbox               GenG Esports     0      0      0   \n",
       "8               GenG Esports                     Andbox     0      0      1   \n",
       "9                      Noble                100 Thieves     0      1      0   \n",
       "\n",
       "   Ascent  Icebox  Breeze  Team_0_P1  Team_0_P2  Team_0_P3  Team_0_P4  \\\n",
       "0       1       0       0       1.09       1.09       1.01       1.15   \n",
       "1       0       0       0       0.99       0.95       1.04       0.97   \n",
       "2       0       0       0       1.09       1.10       1.16       1.04   \n",
       "3       1       0       0       1.22       0.85       1.10       1.09   \n",
       "4       0       0       0       1.15       1.05       1.09       1.07   \n",
       "5       0       0       0       1.19       1.03       1.11       1.04   \n",
       "6       0       0       1       1.27       0.98       1.15       1.02   \n",
       "7       0       1       0       1.27       0.98       1.15       1.02   \n",
       "8       0       0       0       1.11       0.96       1.24       0.95   \n",
       "9       0       0       0       1.19       1.09       0.98       1.06   \n",
       "\n",
       "   Team_0_P5  Team_1_P1  Team_1_P2  Team_1_P3  Team_1_P4  Team_1_P5  Winner  \n",
       "0       1.04       0.99       0.95       1.04       0.97       1.14       0  \n",
       "1       1.14       1.09       1.09       1.01       1.15       1.04       1  \n",
       "2       1.07       1.22       0.85       1.10       1.09       1.07       0  \n",
       "3       1.07       1.09       1.10       1.16       1.04       1.07       1  \n",
       "4       1.17       1.19       1.03       1.11       1.04       1.01       1  \n",
       "5       1.01       1.15       1.05       1.09       1.07       1.17       0  \n",
       "6       0.98       1.11       0.96       1.24       0.95       0.99       1  \n",
       "7       0.98       1.11       0.96       1.24       0.95       0.99       0  \n",
       "8       0.99       1.27       0.98       1.15       1.02       0.98       0  \n",
       "9       0.90       1.26       1.08       1.08       1.05       0.91       1  "
      ]
     },
     "execution_count": 61,
     "metadata": {},
     "output_type": "execute_result"
    }
   ],
   "source": [
    "df_PlayerRatings = pd.read_csv(r'dataPlayerRatings.csv')\n",
    "df_PlayerRatings.head(10)"
   ]
  },
  {
   "cell_type": "markdown",
   "id": "39caba1f",
   "metadata": {},
   "source": [
    "### Section 1.2. Data Preprocessing using train_test_split()"
   ]
  },
  {
   "cell_type": "code",
   "execution_count": 62,
   "id": "23dcf4cb",
   "metadata": {},
   "outputs": [],
   "source": [
    "X_train, X_test, y_train, y_test = train_test_split(df_PlayerRatings.drop(['Team_0 (started DFD 1st H)','Team_1 (started ATK 1st H)','Winner'],axis=1), df_PlayerRatings['Winner'], test_size=0.20, random_state=42)\n",
    "y_train=y_train.astype('int')\n",
    "y_test=y_test.astype('int')"
   ]
  },
  {
   "cell_type": "markdown",
   "id": "66ad5ee9",
   "metadata": {},
   "source": [
    "### Section 1.3. Prediction results using train_test_split()"
   ]
  },
  {
   "cell_type": "markdown",
   "id": "cb8f3bd3",
   "metadata": {},
   "source": [
    "#### Logistic Regression"
   ]
  },
  {
   "cell_type": "code",
   "execution_count": 63,
   "id": "4feee23a",
   "metadata": {},
   "outputs": [
    {
     "name": "stdout",
     "output_type": "stream",
     "text": [
      "              precision    recall  f1-score   support\n",
      "\n",
      "           0       0.53      0.62      0.57        13\n",
      "           1       0.71      0.63      0.67        19\n",
      "\n",
      "    accuracy                           0.62        32\n",
      "   macro avg       0.62      0.62      0.62        32\n",
      "weighted avg       0.64      0.62      0.63        32\n",
      "\n"
     ]
    }
   ],
   "source": [
    "pipeline_LogReg = make_pipeline(StandardScaler(), LogisticRegression(max_iter=100)) \n",
    "pipeline_LogReg.fit(X_train, y_train)\n",
    "pred_LogReg = pipeline_LogReg.predict(X_test)\n",
    "print(classification_report(y_test,pred_LogReg))"
   ]
  },
  {
   "cell_type": "markdown",
   "id": "12e3a3b4",
   "metadata": {},
   "source": [
    "#### Stochastic Gradient Descent Classifier"
   ]
  },
  {
   "cell_type": "code",
   "execution_count": 64,
   "id": "f45b339c",
   "metadata": {},
   "outputs": [
    {
     "name": "stdout",
     "output_type": "stream",
     "text": [
      "              precision    recall  f1-score   support\n",
      "\n",
      "           0       0.60      0.69      0.64        13\n",
      "           1       0.76      0.68      0.72        19\n",
      "\n",
      "    accuracy                           0.69        32\n",
      "   macro avg       0.68      0.69      0.68        32\n",
      "weighted avg       0.70      0.69      0.69        32\n",
      "\n"
     ]
    }
   ],
   "source": [
    "pipeline_SGD = make_pipeline(StandardScaler(), SGDClassifier(loss='hinge', penalty='l2', alpha=0.0001, max_iter=1000))\n",
    "pipeline_SGD.fit(X_train, y_train)\n",
    "pred_SGD = pipeline_SGD.predict(X_test)\n",
    "print(classification_report(y_test,pred_SGD))"
   ]
  },
  {
   "cell_type": "markdown",
   "id": "db2909e9",
   "metadata": {},
   "source": [
    "#### Support Vector Classifier (linear kernel)"
   ]
  },
  {
   "cell_type": "code",
   "execution_count": 65,
   "id": "d9cf6808",
   "metadata": {},
   "outputs": [
    {
     "name": "stdout",
     "output_type": "stream",
     "text": [
      "              precision    recall  f1-score   support\n",
      "\n",
      "           0       0.46      0.46      0.46        13\n",
      "           1       0.63      0.63      0.63        19\n",
      "\n",
      "    accuracy                           0.56        32\n",
      "   macro avg       0.55      0.55      0.55        32\n",
      "weighted avg       0.56      0.56      0.56        32\n",
      "\n"
     ]
    }
   ],
   "source": [
    "pipeline_SVC = make_pipeline(StandardScaler(), SVC(C=1.0, kernel='linear', degree=3, gamma='scale'))\n",
    "pipeline_SVC.fit(X_train, y_train)\n",
    "pred_SVC = pipeline_SVC.predict(X_test)\n",
    "print(classification_report(y_test,pred_SVC))"
   ]
  },
  {
   "cell_type": "markdown",
   "id": "f5239fdc",
   "metadata": {},
   "source": [
    "#### Random Forest Classifier"
   ]
  },
  {
   "cell_type": "code",
   "execution_count": 66,
   "id": "3ac86376",
   "metadata": {},
   "outputs": [
    {
     "name": "stdout",
     "output_type": "stream",
     "text": [
      "              precision    recall  f1-score   support\n",
      "\n",
      "           0       0.54      0.54      0.54        13\n",
      "           1       0.68      0.68      0.68        19\n",
      "\n",
      "    accuracy                           0.62        32\n",
      "   macro avg       0.61      0.61      0.61        32\n",
      "weighted avg       0.62      0.62      0.62        32\n",
      "\n"
     ]
    }
   ],
   "source": [
    "pipeline_RF = make_pipeline(StandardScaler(), RandomForestClassifier(max_depth=None))\n",
    "pipeline_RF.fit(X_train, y_train)\n",
    "pred_RF = pipeline_RF.predict(X_test)\n",
    "print(classification_report(y_test,pred_RF))"
   ]
  },
  {
   "cell_type": "markdown",
   "id": "4eae3f85",
   "metadata": {},
   "source": [
    "#### Extra Tree Classifier"
   ]
  },
  {
   "cell_type": "code",
   "execution_count": 67,
   "id": "b765661c",
   "metadata": {},
   "outputs": [
    {
     "name": "stdout",
     "output_type": "stream",
     "text": [
      "              precision    recall  f1-score   support\n",
      "\n",
      "           0       0.67      0.62      0.64        13\n",
      "           1       0.75      0.79      0.77        19\n",
      "\n",
      "    accuracy                           0.72        32\n",
      "   macro avg       0.71      0.70      0.70        32\n",
      "weighted avg       0.72      0.72      0.72        32\n",
      "\n"
     ]
    }
   ],
   "source": [
    "pipeline_ET = make_pipeline(StandardScaler(), ExtraTreeClassifier())\n",
    "pipeline_ET.fit(X_train, y_train)\n",
    "pred_ET = pipeline_ET.predict(X_test)\n",
    "print(classification_report(y_test,pred_ET))"
   ]
  },
  {
   "cell_type": "markdown",
   "id": "200707d4",
   "metadata": {},
   "source": [
    "### Section 1.4. Data Preprocessing using normal split (first 128 rows as train, rest 32 as test)"
   ]
  },
  {
   "cell_type": "code",
   "execution_count": 68,
   "id": "56891aec",
   "metadata": {},
   "outputs": [],
   "source": [
    "X_train = df_PlayerRatings.drop(['Team_0 (started DFD 1st H)','Team_1 (started ATK 1st H)','Winner'],axis=1)\n",
    "X_train = X_train.iloc[0:128]\n",
    "X_test = df_PlayerRatings.drop(['Team_0 (started DFD 1st H)','Team_1 (started ATK 1st H)','Winner'],axis=1)\n",
    "X_test = X_test.iloc[128:160]\n",
    "y_train = df_PlayerRatings.loc[0:127,'Winner']\n",
    "y_test = df_PlayerRatings.loc[128:159,'Winner']\n",
    "y_train=y_train.astype('int')\n",
    "y_test=y_test.astype('int')"
   ]
  },
  {
   "cell_type": "markdown",
   "id": "1764514a",
   "metadata": {},
   "source": [
    "### Section 1.5. Prediction results using  normal split"
   ]
  },
  {
   "cell_type": "markdown",
   "id": "256b001e",
   "metadata": {},
   "source": [
    "#### Logistic Regression"
   ]
  },
  {
   "cell_type": "code",
   "execution_count": 69,
   "id": "2267aec0",
   "metadata": {},
   "outputs": [
    {
     "name": "stdout",
     "output_type": "stream",
     "text": [
      "              precision    recall  f1-score   support\n",
      "\n",
      "           0       0.82      0.88      0.85        16\n",
      "           1       0.87      0.81      0.84        16\n",
      "\n",
      "    accuracy                           0.84        32\n",
      "   macro avg       0.85      0.84      0.84        32\n",
      "weighted avg       0.85      0.84      0.84        32\n",
      "\n"
     ]
    }
   ],
   "source": [
    "pipeline_LogReg = make_pipeline(StandardScaler(), LogisticRegression(max_iter=100))\n",
    "pipeline_LogReg.fit(X_train, y_train)\n",
    "pred_LogReg = pipeline_LogReg.predict(X_test)\n",
    "print(classification_report(y_test,pred_LogReg))"
   ]
  },
  {
   "cell_type": "markdown",
   "id": "49faf82b",
   "metadata": {},
   "source": [
    "#### Stochastic Gradient Descent Classifier"
   ]
  },
  {
   "cell_type": "code",
   "execution_count": 70,
   "id": "76816e62",
   "metadata": {},
   "outputs": [
    {
     "name": "stdout",
     "output_type": "stream",
     "text": [
      "              precision    recall  f1-score   support\n",
      "\n",
      "           0       0.68      0.81      0.74        16\n",
      "           1       0.77      0.62      0.69        16\n",
      "\n",
      "    accuracy                           0.72        32\n",
      "   macro avg       0.73      0.72      0.72        32\n",
      "weighted avg       0.73      0.72      0.72        32\n",
      "\n"
     ]
    }
   ],
   "source": [
    "pipeline_SGD = make_pipeline(StandardScaler(), SGDClassifier(loss='hinge', penalty='l2', alpha=1e-3, max_iter=1000))\n",
    "pipeline_SGD.fit(X_train, y_train)\n",
    "pred_SGD = pipeline_SGD.predict(X_test)\n",
    "print(classification_report(y_test,pred_SGD))"
   ]
  },
  {
   "cell_type": "markdown",
   "id": "21802d57",
   "metadata": {},
   "source": [
    "#### Support Vector Classifier (linear kernel)"
   ]
  },
  {
   "cell_type": "code",
   "execution_count": 71,
   "id": "d06ef880",
   "metadata": {},
   "outputs": [
    {
     "name": "stdout",
     "output_type": "stream",
     "text": [
      "              precision    recall  f1-score   support\n",
      "\n",
      "           0       0.81      0.81      0.81        16\n",
      "           1       0.81      0.81      0.81        16\n",
      "\n",
      "    accuracy                           0.81        32\n",
      "   macro avg       0.81      0.81      0.81        32\n",
      "weighted avg       0.81      0.81      0.81        32\n",
      "\n"
     ]
    }
   ],
   "source": [
    "pipeline_SVC = make_pipeline(StandardScaler(), SVC(C=1.0, kernel='linear', degree=3, gamma='scale'))\n",
    "pipeline_SVC.fit(X_train, y_train)\n",
    "pred_SVC = pipeline_SVC.predict(X_test)\n",
    "print(classification_report(y_test,pred_SVC))"
   ]
  },
  {
   "cell_type": "markdown",
   "id": "b4085609",
   "metadata": {},
   "source": [
    "#### Random Forest Classifier"
   ]
  },
  {
   "cell_type": "code",
   "execution_count": 72,
   "id": "57241bfe",
   "metadata": {},
   "outputs": [
    {
     "name": "stdout",
     "output_type": "stream",
     "text": [
      "              precision    recall  f1-score   support\n",
      "\n",
      "           0       0.71      0.94      0.81        16\n",
      "           1       0.91      0.62      0.74        16\n",
      "\n",
      "    accuracy                           0.78        32\n",
      "   macro avg       0.81      0.78      0.78        32\n",
      "weighted avg       0.81      0.78      0.78        32\n",
      "\n"
     ]
    }
   ],
   "source": [
    "pipeline_RF = make_pipeline(StandardScaler(), RandomForestClassifier(max_depth=None))\n",
    "pipeline_RF.fit(X_train, y_train)\n",
    "pred_RF = pipeline_RF.predict(X_test)\n",
    "print(classification_report(y_test,pred_RF))"
   ]
  },
  {
   "cell_type": "markdown",
   "id": "a46c3238",
   "metadata": {},
   "source": [
    "#### Extra Tree Classifier"
   ]
  },
  {
   "cell_type": "code",
   "execution_count": 73,
   "id": "ca22127b",
   "metadata": {},
   "outputs": [
    {
     "name": "stdout",
     "output_type": "stream",
     "text": [
      "              precision    recall  f1-score   support\n",
      "\n",
      "           0       0.50      0.62      0.56        16\n",
      "           1       0.50      0.38      0.43        16\n",
      "\n",
      "    accuracy                           0.50        32\n",
      "   macro avg       0.50      0.50      0.49        32\n",
      "weighted avg       0.50      0.50      0.49        32\n",
      "\n"
     ]
    }
   ],
   "source": [
    "pipeline_ET = make_pipeline(StandardScaler(), ExtraTreeClassifier())\n",
    "pipeline_ET.fit(X_train, y_train)\n",
    "pred_ET = pipeline_ET.predict(X_test)\n",
    "print(classification_report(y_test,pred_ET))"
   ]
  },
  {
   "cell_type": "markdown",
   "id": "51c10247",
   "metadata": {},
   "source": [
    "## Section 2: Prediction using match statistics data"
   ]
  },
  {
   "cell_type": "markdown",
   "id": "65c89f4d",
   "metadata": {},
   "source": [
    "### Section 2.1. Data Read"
   ]
  },
  {
   "cell_type": "code",
   "execution_count": 74,
   "id": "ff87a570",
   "metadata": {},
   "outputs": [
    {
     "data": {
      "text/html": [
       "<div>\n",
       "<style scoped>\n",
       "    .dataframe tbody tr th:only-of-type {\n",
       "        vertical-align: middle;\n",
       "    }\n",
       "\n",
       "    .dataframe tbody tr th {\n",
       "        vertical-align: top;\n",
       "    }\n",
       "\n",
       "    .dataframe thead th {\n",
       "        text-align: right;\n",
       "    }\n",
       "</style>\n",
       "<table border=\"1\" class=\"dataframe\">\n",
       "  <thead>\n",
       "    <tr style=\"text-align: right;\">\n",
       "      <th></th>\n",
       "      <th>Team_0 (started DFD 1st H)</th>\n",
       "      <th>Team_1 (started ATK 1st H)</th>\n",
       "      <th>Bind</th>\n",
       "      <th>Haven</th>\n",
       "      <th>Split</th>\n",
       "      <th>Ascent</th>\n",
       "      <th>Icebox</th>\n",
       "      <th>Breeze</th>\n",
       "      <th>Team_0 ACS</th>\n",
       "      <th>Team_0 K</th>\n",
       "      <th>...</th>\n",
       "      <th>Team_1 K</th>\n",
       "      <th>Team_1 D</th>\n",
       "      <th>Team_1 A</th>\n",
       "      <th>Team_1 KD</th>\n",
       "      <th>Team_1 ADR</th>\n",
       "      <th>Team_1 HS</th>\n",
       "      <th>Team_1 ESR</th>\n",
       "      <th>Team_1 FB</th>\n",
       "      <th>Team_1 FD</th>\n",
       "      <th>Winner</th>\n",
       "    </tr>\n",
       "  </thead>\n",
       "  <tbody>\n",
       "    <tr>\n",
       "      <th>0</th>\n",
       "      <td>Kansas City Pioneers</td>\n",
       "      <td>Virtuoso</td>\n",
       "      <td>0</td>\n",
       "      <td>0</td>\n",
       "      <td>0</td>\n",
       "      <td>1</td>\n",
       "      <td>0</td>\n",
       "      <td>0</td>\n",
       "      <td>240.8</td>\n",
       "      <td>13.8</td>\n",
       "      <td>...</td>\n",
       "      <td>8.2</td>\n",
       "      <td>13.8</td>\n",
       "      <td>2.8</td>\n",
       "      <td>0.594</td>\n",
       "      <td>89.42</td>\n",
       "      <td>22.6</td>\n",
       "      <td>31.0</td>\n",
       "      <td>1.2</td>\n",
       "      <td>2.0</td>\n",
       "      <td>0</td>\n",
       "    </tr>\n",
       "    <tr>\n",
       "      <th>1</th>\n",
       "      <td>Virtuoso</td>\n",
       "      <td>Kansas City Pioneers</td>\n",
       "      <td>1</td>\n",
       "      <td>0</td>\n",
       "      <td>0</td>\n",
       "      <td>0</td>\n",
       "      <td>0</td>\n",
       "      <td>0</td>\n",
       "      <td>146.2</td>\n",
       "      <td>8.6</td>\n",
       "      <td>...</td>\n",
       "      <td>16.0</td>\n",
       "      <td>8.6</td>\n",
       "      <td>3.6</td>\n",
       "      <td>1.860</td>\n",
       "      <td>133.76</td>\n",
       "      <td>29.4</td>\n",
       "      <td>73.4</td>\n",
       "      <td>2.8</td>\n",
       "      <td>0.8</td>\n",
       "      <td>1</td>\n",
       "    </tr>\n",
       "    <tr>\n",
       "      <th>2</th>\n",
       "      <td>Rise</td>\n",
       "      <td>Cloud9 Blue</td>\n",
       "      <td>0</td>\n",
       "      <td>0</td>\n",
       "      <td>1</td>\n",
       "      <td>0</td>\n",
       "      <td>0</td>\n",
       "      <td>0</td>\n",
       "      <td>237.4</td>\n",
       "      <td>17.0</td>\n",
       "      <td>...</td>\n",
       "      <td>12.8</td>\n",
       "      <td>17.0</td>\n",
       "      <td>5.8</td>\n",
       "      <td>0.753</td>\n",
       "      <td>114.64</td>\n",
       "      <td>18.8</td>\n",
       "      <td>48.8</td>\n",
       "      <td>1.6</td>\n",
       "      <td>2.4</td>\n",
       "      <td>0</td>\n",
       "    </tr>\n",
       "    <tr>\n",
       "      <th>3</th>\n",
       "      <td>Cloud9 Blue</td>\n",
       "      <td>Rise</td>\n",
       "      <td>0</td>\n",
       "      <td>0</td>\n",
       "      <td>0</td>\n",
       "      <td>1</td>\n",
       "      <td>0</td>\n",
       "      <td>0</td>\n",
       "      <td>196.0</td>\n",
       "      <td>16.0</td>\n",
       "      <td>...</td>\n",
       "      <td>18.2</td>\n",
       "      <td>16.0</td>\n",
       "      <td>6.4</td>\n",
       "      <td>1.137</td>\n",
       "      <td>142.28</td>\n",
       "      <td>24.4</td>\n",
       "      <td>62.6</td>\n",
       "      <td>2.8</td>\n",
       "      <td>2.0</td>\n",
       "      <td>1</td>\n",
       "    </tr>\n",
       "    <tr>\n",
       "      <th>4</th>\n",
       "      <td>Luminosity Gaming</td>\n",
       "      <td>Version1</td>\n",
       "      <td>0</td>\n",
       "      <td>1</td>\n",
       "      <td>0</td>\n",
       "      <td>0</td>\n",
       "      <td>0</td>\n",
       "      <td>0</td>\n",
       "      <td>205.0</td>\n",
       "      <td>15.0</td>\n",
       "      <td>...</td>\n",
       "      <td>16.0</td>\n",
       "      <td>15.0</td>\n",
       "      <td>7.4</td>\n",
       "      <td>1.067</td>\n",
       "      <td>134.58</td>\n",
       "      <td>20.2</td>\n",
       "      <td>28.8</td>\n",
       "      <td>1.8</td>\n",
       "      <td>2.4</td>\n",
       "      <td>1</td>\n",
       "    </tr>\n",
       "    <tr>\n",
       "      <th>5</th>\n",
       "      <td>Version1</td>\n",
       "      <td>Luminosity Gaming</td>\n",
       "      <td>0</td>\n",
       "      <td>0</td>\n",
       "      <td>1</td>\n",
       "      <td>0</td>\n",
       "      <td>0</td>\n",
       "      <td>0</td>\n",
       "      <td>223.2</td>\n",
       "      <td>16.6</td>\n",
       "      <td>...</td>\n",
       "      <td>13.4</td>\n",
       "      <td>16.6</td>\n",
       "      <td>5.2</td>\n",
       "      <td>0.807</td>\n",
       "      <td>135.24</td>\n",
       "      <td>25.8</td>\n",
       "      <td>49.0</td>\n",
       "      <td>2.6</td>\n",
       "      <td>1.6</td>\n",
       "      <td>0</td>\n",
       "    </tr>\n",
       "    <tr>\n",
       "      <th>6</th>\n",
       "      <td>Andbox</td>\n",
       "      <td>GenG Esports</td>\n",
       "      <td>0</td>\n",
       "      <td>0</td>\n",
       "      <td>0</td>\n",
       "      <td>0</td>\n",
       "      <td>0</td>\n",
       "      <td>1</td>\n",
       "      <td>169.2</td>\n",
       "      <td>10.0</td>\n",
       "      <td>...</td>\n",
       "      <td>15.8</td>\n",
       "      <td>10.0</td>\n",
       "      <td>5.6</td>\n",
       "      <td>1.580</td>\n",
       "      <td>151.42</td>\n",
       "      <td>28.4</td>\n",
       "      <td>56.0</td>\n",
       "      <td>2.6</td>\n",
       "      <td>1.0</td>\n",
       "      <td>1</td>\n",
       "    </tr>\n",
       "    <tr>\n",
       "      <th>7</th>\n",
       "      <td>Andbox</td>\n",
       "      <td>GenG Esports</td>\n",
       "      <td>0</td>\n",
       "      <td>0</td>\n",
       "      <td>0</td>\n",
       "      <td>0</td>\n",
       "      <td>1</td>\n",
       "      <td>0</td>\n",
       "      <td>206.6</td>\n",
       "      <td>18.4</td>\n",
       "      <td>...</td>\n",
       "      <td>18.6</td>\n",
       "      <td>18.4</td>\n",
       "      <td>8.8</td>\n",
       "      <td>1.011</td>\n",
       "      <td>138.84</td>\n",
       "      <td>17.4</td>\n",
       "      <td>59.2</td>\n",
       "      <td>2.8</td>\n",
       "      <td>2.4</td>\n",
       "      <td>0</td>\n",
       "    </tr>\n",
       "    <tr>\n",
       "      <th>8</th>\n",
       "      <td>GenG Esports</td>\n",
       "      <td>Andbox</td>\n",
       "      <td>0</td>\n",
       "      <td>0</td>\n",
       "      <td>1</td>\n",
       "      <td>0</td>\n",
       "      <td>0</td>\n",
       "      <td>0</td>\n",
       "      <td>231.4</td>\n",
       "      <td>15.8</td>\n",
       "      <td>...</td>\n",
       "      <td>11.0</td>\n",
       "      <td>15.8</td>\n",
       "      <td>3.0</td>\n",
       "      <td>0.696</td>\n",
       "      <td>117.74</td>\n",
       "      <td>16.6</td>\n",
       "      <td>24.8</td>\n",
       "      <td>1.0</td>\n",
       "      <td>2.8</td>\n",
       "      <td>0</td>\n",
       "    </tr>\n",
       "    <tr>\n",
       "      <th>9</th>\n",
       "      <td>Noble</td>\n",
       "      <td>100 Thieves</td>\n",
       "      <td>0</td>\n",
       "      <td>1</td>\n",
       "      <td>0</td>\n",
       "      <td>0</td>\n",
       "      <td>0</td>\n",
       "      <td>0</td>\n",
       "      <td>80.4</td>\n",
       "      <td>14.6</td>\n",
       "      <td>...</td>\n",
       "      <td>16.4</td>\n",
       "      <td>14.6</td>\n",
       "      <td>5.4</td>\n",
       "      <td>1.123</td>\n",
       "      <td>52.04</td>\n",
       "      <td>15.8</td>\n",
       "      <td>58.0</td>\n",
       "      <td>1.0</td>\n",
       "      <td>0.8</td>\n",
       "      <td>1</td>\n",
       "    </tr>\n",
       "  </tbody>\n",
       "</table>\n",
       "<p>10 rows × 29 columns</p>\n",
       "</div>"
      ],
      "text/plain": [
       "  Team_0 (started DFD 1st H) Team_1 (started ATK 1st H)  Bind  Haven  Split  \\\n",
       "0       Kansas City Pioneers                   Virtuoso     0      0      0   \n",
       "1                   Virtuoso       Kansas City Pioneers     1      0      0   \n",
       "2                       Rise                Cloud9 Blue     0      0      1   \n",
       "3                Cloud9 Blue                       Rise     0      0      0   \n",
       "4          Luminosity Gaming                   Version1     0      1      0   \n",
       "5                   Version1          Luminosity Gaming     0      0      1   \n",
       "6                     Andbox               GenG Esports     0      0      0   \n",
       "7                     Andbox               GenG Esports     0      0      0   \n",
       "8               GenG Esports                     Andbox     0      0      1   \n",
       "9                      Noble                100 Thieves     0      1      0   \n",
       "\n",
       "   Ascent  Icebox  Breeze  Team_0 ACS  Team_0 K  ...  Team_1 K  Team_1 D  \\\n",
       "0       1       0       0       240.8      13.8  ...       8.2      13.8   \n",
       "1       0       0       0       146.2       8.6  ...      16.0       8.6   \n",
       "2       0       0       0       237.4      17.0  ...      12.8      17.0   \n",
       "3       1       0       0       196.0      16.0  ...      18.2      16.0   \n",
       "4       0       0       0       205.0      15.0  ...      16.0      15.0   \n",
       "5       0       0       0       223.2      16.6  ...      13.4      16.6   \n",
       "6       0       0       1       169.2      10.0  ...      15.8      10.0   \n",
       "7       0       1       0       206.6      18.4  ...      18.6      18.4   \n",
       "8       0       0       0       231.4      15.8  ...      11.0      15.8   \n",
       "9       0       0       0        80.4      14.6  ...      16.4      14.6   \n",
       "\n",
       "   Team_1 A  Team_1 KD  Team_1 ADR  Team_1 HS  Team_1 ESR  Team_1 FB  \\\n",
       "0       2.8      0.594       89.42       22.6        31.0        1.2   \n",
       "1       3.6      1.860      133.76       29.4        73.4        2.8   \n",
       "2       5.8      0.753      114.64       18.8        48.8        1.6   \n",
       "3       6.4      1.137      142.28       24.4        62.6        2.8   \n",
       "4       7.4      1.067      134.58       20.2        28.8        1.8   \n",
       "5       5.2      0.807      135.24       25.8        49.0        2.6   \n",
       "6       5.6      1.580      151.42       28.4        56.0        2.6   \n",
       "7       8.8      1.011      138.84       17.4        59.2        2.8   \n",
       "8       3.0      0.696      117.74       16.6        24.8        1.0   \n",
       "9       5.4      1.123       52.04       15.8        58.0        1.0   \n",
       "\n",
       "   Team_1 FD  Winner  \n",
       "0        2.0       0  \n",
       "1        0.8       1  \n",
       "2        2.4       0  \n",
       "3        2.0       1  \n",
       "4        2.4       1  \n",
       "5        1.6       0  \n",
       "6        1.0       1  \n",
       "7        2.4       0  \n",
       "8        2.8       0  \n",
       "9        0.8       1  \n",
       "\n",
       "[10 rows x 29 columns]"
      ]
     },
     "execution_count": 74,
     "metadata": {},
     "output_type": "execute_result"
    }
   ],
   "source": [
    "df_MatchData = pd.read_csv(r'dataMatchStats.csv')\n",
    "df_MatchData.head(10)"
   ]
  },
  {
   "cell_type": "markdown",
   "id": "3dc10133",
   "metadata": {},
   "source": [
    "### Section 2.2. Data Preprocessing using train_test_split()"
   ]
  },
  {
   "cell_type": "code",
   "execution_count": 75,
   "id": "2efbfcbb",
   "metadata": {},
   "outputs": [],
   "source": [
    "X_train, X_test, y_train, y_test = train_test_split(df_MatchData.drop(['Team_0 (started DFD 1st H)','Team_1 (started ATK 1st H)','Winner'],axis=1), df_MatchData['Winner'], test_size=0.20, random_state=42)\n",
    "y_train=y_train.astype('int')\n",
    "y_test=y_test.astype('int')"
   ]
  },
  {
   "cell_type": "markdown",
   "id": "38610f70",
   "metadata": {},
   "source": [
    "### Section 2.3. Prediction results using train_test_split()"
   ]
  },
  {
   "cell_type": "markdown",
   "id": "3e508a23",
   "metadata": {},
   "source": [
    "#### Logistic Regression"
   ]
  },
  {
   "cell_type": "code",
   "execution_count": 76,
   "id": "65757657",
   "metadata": {},
   "outputs": [
    {
     "name": "stdout",
     "output_type": "stream",
     "text": [
      "              precision    recall  f1-score   support\n",
      "\n",
      "           0       0.81      1.00      0.90        13\n",
      "           1       1.00      0.84      0.91        19\n",
      "\n",
      "    accuracy                           0.91        32\n",
      "   macro avg       0.91      0.92      0.91        32\n",
      "weighted avg       0.92      0.91      0.91        32\n",
      "\n"
     ]
    }
   ],
   "source": [
    "pipeline_LogReg = make_pipeline(StandardScaler(), LogisticRegression(max_iter=100)) \n",
    "pipeline_LogReg.fit(X_train, y_train)\n",
    "pred_LogReg = pipeline_LogReg.predict(X_test)\n",
    "print(classification_report(y_test,pred_LogReg))"
   ]
  },
  {
   "cell_type": "markdown",
   "id": "0f0e1570",
   "metadata": {},
   "source": [
    "#### Stochastic Gradient Descent Classifier"
   ]
  },
  {
   "cell_type": "code",
   "execution_count": 77,
   "id": "3bb8e483",
   "metadata": {},
   "outputs": [
    {
     "name": "stdout",
     "output_type": "stream",
     "text": [
      "              precision    recall  f1-score   support\n",
      "\n",
      "           0       0.80      0.92      0.86        13\n",
      "           1       0.94      0.84      0.89        19\n",
      "\n",
      "    accuracy                           0.88        32\n",
      "   macro avg       0.87      0.88      0.87        32\n",
      "weighted avg       0.88      0.88      0.88        32\n",
      "\n"
     ]
    }
   ],
   "source": [
    "pipeline_SGD = make_pipeline(StandardScaler(), SGDClassifier(loss='hinge', penalty='l2', alpha=1e-3, max_iter=1000))\n",
    "pipeline_SGD.fit(X_train, y_train)\n",
    "pred_SGD = pipeline_SGD.predict(X_test)\n",
    "print(classification_report(y_test,pred_SGD))"
   ]
  },
  {
   "cell_type": "markdown",
   "id": "764a219d",
   "metadata": {},
   "source": [
    "#### Support Vector Classifier (linear kernel)"
   ]
  },
  {
   "cell_type": "code",
   "execution_count": 78,
   "id": "a787a7cc",
   "metadata": {},
   "outputs": [
    {
     "name": "stdout",
     "output_type": "stream",
     "text": [
      "              precision    recall  f1-score   support\n",
      "\n",
      "           0       0.75      0.92      0.83        13\n",
      "           1       0.94      0.79      0.86        19\n",
      "\n",
      "    accuracy                           0.84        32\n",
      "   macro avg       0.84      0.86      0.84        32\n",
      "weighted avg       0.86      0.84      0.85        32\n",
      "\n"
     ]
    }
   ],
   "source": [
    "pipeline_SVC = make_pipeline(StandardScaler(), SVC(C=1.0, kernel='linear', degree=3, gamma='scale'))\n",
    "pipeline_SVC.fit(X_train, y_train)\n",
    "pred_SVC = pipeline_SVC.predict(X_test)\n",
    "print(classification_report(y_test,pred_SVC))"
   ]
  },
  {
   "cell_type": "markdown",
   "id": "886d6d90",
   "metadata": {},
   "source": [
    "#### Random Forest Classifier"
   ]
  },
  {
   "cell_type": "code",
   "execution_count": 79,
   "id": "8fa3e678",
   "metadata": {},
   "outputs": [
    {
     "name": "stdout",
     "output_type": "stream",
     "text": [
      "              precision    recall  f1-score   support\n",
      "\n",
      "           0       0.93      1.00      0.96        13\n",
      "           1       1.00      0.95      0.97        19\n",
      "\n",
      "    accuracy                           0.97        32\n",
      "   macro avg       0.96      0.97      0.97        32\n",
      "weighted avg       0.97      0.97      0.97        32\n",
      "\n"
     ]
    }
   ],
   "source": [
    "pipeline_RF = make_pipeline(StandardScaler(), RandomForestClassifier(max_depth=None))\n",
    "pipeline_RF.fit(X_train, y_train)\n",
    "pred_RF = pipeline_RF.predict(X_test)\n",
    "print(classification_report(y_test,pred_RF))"
   ]
  },
  {
   "cell_type": "markdown",
   "id": "cbbe167c",
   "metadata": {},
   "source": [
    "#### Extra Tree Classifier"
   ]
  },
  {
   "cell_type": "code",
   "execution_count": 80,
   "id": "05ed2667",
   "metadata": {},
   "outputs": [
    {
     "name": "stdout",
     "output_type": "stream",
     "text": [
      "              precision    recall  f1-score   support\n",
      "\n",
      "           0       0.86      0.92      0.89        13\n",
      "           1       0.94      0.89      0.92        19\n",
      "\n",
      "    accuracy                           0.91        32\n",
      "   macro avg       0.90      0.91      0.90        32\n",
      "weighted avg       0.91      0.91      0.91        32\n",
      "\n"
     ]
    }
   ],
   "source": [
    "pipeline_ET = make_pipeline(StandardScaler(), ExtraTreeClassifier())\n",
    "pipeline_ET.fit(X_train, y_train)\n",
    "pred_ET = pipeline_ET.predict(X_test)\n",
    "print(classification_report(y_test,pred_ET))"
   ]
  },
  {
   "cell_type": "markdown",
   "id": "6bef6f61",
   "metadata": {},
   "source": [
    "### Section 2.4. Data Preprocessing using normal split (first 128 rows as train, rest 32 as test)"
   ]
  },
  {
   "cell_type": "code",
   "execution_count": 81,
   "id": "2090f90e",
   "metadata": {},
   "outputs": [],
   "source": [
    "X_train = df_MatchData.drop(['Team_0 (started DFD 1st H)','Team_1 (started ATK 1st H)','Winner'],axis=1)\n",
    "X_train = X_train.iloc[0:128]\n",
    "X_test = df_MatchData.drop(['Team_0 (started DFD 1st H)','Team_1 (started ATK 1st H)','Winner'],axis=1)\n",
    "X_test = X_test.iloc[128:160]\n",
    "y_train = df_MatchData.loc[0:127,'Winner']\n",
    "y_test = df_MatchData.loc[128:159,'Winner']\n",
    "y_train=y_train.astype('int')\n",
    "y_test=y_test.astype('int')"
   ]
  },
  {
   "cell_type": "markdown",
   "id": "81a556df",
   "metadata": {},
   "source": [
    "### Section 2.5. Prediction results using normal split"
   ]
  },
  {
   "cell_type": "markdown",
   "id": "a0c0025b",
   "metadata": {},
   "source": [
    "#### Logistic Regression"
   ]
  },
  {
   "cell_type": "code",
   "execution_count": 82,
   "id": "2f639b39",
   "metadata": {},
   "outputs": [
    {
     "name": "stdout",
     "output_type": "stream",
     "text": [
      "              precision    recall  f1-score   support\n",
      "\n",
      "           0       0.94      1.00      0.97        16\n",
      "           1       1.00      0.94      0.97        16\n",
      "\n",
      "    accuracy                           0.97        32\n",
      "   macro avg       0.97      0.97      0.97        32\n",
      "weighted avg       0.97      0.97      0.97        32\n",
      "\n"
     ]
    }
   ],
   "source": [
    "pipeline_LogReg = make_pipeline(StandardScaler(), LogisticRegression(max_iter=100)) \n",
    "pipeline_LogReg.fit(X_train, y_train)\n",
    "pred_LogReg = pipeline_LogReg.predict(X_test)\n",
    "print(classification_report(y_test,pred_LogReg))"
   ]
  },
  {
   "cell_type": "markdown",
   "id": "1c1e725f",
   "metadata": {},
   "source": [
    "#### Stochastic Gradient Descent Classifier"
   ]
  },
  {
   "cell_type": "code",
   "execution_count": 83,
   "id": "68e421ca",
   "metadata": {},
   "outputs": [
    {
     "name": "stdout",
     "output_type": "stream",
     "text": [
      "              precision    recall  f1-score   support\n",
      "\n",
      "           0       0.82      0.88      0.85        16\n",
      "           1       0.87      0.81      0.84        16\n",
      "\n",
      "    accuracy                           0.84        32\n",
      "   macro avg       0.85      0.84      0.84        32\n",
      "weighted avg       0.85      0.84      0.84        32\n",
      "\n"
     ]
    }
   ],
   "source": [
    "pipeline_SGD = make_pipeline(StandardScaler(), SGDClassifier(loss='hinge', penalty='l2', alpha=1e-3, max_iter=1000))\n",
    "pipeline_SGD.fit(X_train, y_train)\n",
    "pred_SGD = pipeline_SGD.predict(X_test)\n",
    "print(classification_report(y_test,pred_SGD))"
   ]
  },
  {
   "cell_type": "markdown",
   "id": "5d7b13be",
   "metadata": {},
   "source": [
    "#### Support Vector Classifier (linear kernel)"
   ]
  },
  {
   "cell_type": "code",
   "execution_count": 84,
   "id": "d991aa33",
   "metadata": {},
   "outputs": [
    {
     "name": "stdout",
     "output_type": "stream",
     "text": [
      "              precision    recall  f1-score   support\n",
      "\n",
      "           0       0.89      1.00      0.94        16\n",
      "           1       1.00      0.88      0.93        16\n",
      "\n",
      "    accuracy                           0.94        32\n",
      "   macro avg       0.94      0.94      0.94        32\n",
      "weighted avg       0.94      0.94      0.94        32\n",
      "\n"
     ]
    }
   ],
   "source": [
    "pipeline_SVC = make_pipeline(StandardScaler(), SVC(C=1.0, kernel='linear', degree=3, gamma='scale'))\n",
    "pipeline_SVC.fit(X_train, y_train)\n",
    "pred_SVC = pipeline_SVC.predict(X_test)\n",
    "print(classification_report(y_test,pred_SVC))"
   ]
  },
  {
   "cell_type": "markdown",
   "id": "24c276d7",
   "metadata": {},
   "source": [
    "#### Random Forest Classifier"
   ]
  },
  {
   "cell_type": "code",
   "execution_count": 85,
   "id": "640e92e1",
   "metadata": {},
   "outputs": [
    {
     "name": "stdout",
     "output_type": "stream",
     "text": [
      "              precision    recall  f1-score   support\n",
      "\n",
      "           0       0.94      1.00      0.97        16\n",
      "           1       1.00      0.94      0.97        16\n",
      "\n",
      "    accuracy                           0.97        32\n",
      "   macro avg       0.97      0.97      0.97        32\n",
      "weighted avg       0.97      0.97      0.97        32\n",
      "\n"
     ]
    }
   ],
   "source": [
    "pipeline_RF = make_pipeline(StandardScaler(), RandomForestClassifier(max_depth=None))\n",
    "pipeline_RF.fit(X_train, y_train)\n",
    "pred_RF = pipeline_RF.predict(X_test)\n",
    "print(classification_report(y_test,pred_RF))"
   ]
  },
  {
   "cell_type": "markdown",
   "id": "bbf94035",
   "metadata": {},
   "source": [
    "#### Extra Tree Classifier"
   ]
  },
  {
   "cell_type": "code",
   "execution_count": 86,
   "id": "bbd66108",
   "metadata": {},
   "outputs": [
    {
     "name": "stdout",
     "output_type": "stream",
     "text": [
      "              precision    recall  f1-score   support\n",
      "\n",
      "           0       0.88      0.94      0.91        16\n",
      "           1       0.93      0.88      0.90        16\n",
      "\n",
      "    accuracy                           0.91        32\n",
      "   macro avg       0.91      0.91      0.91        32\n",
      "weighted avg       0.91      0.91      0.91        32\n",
      "\n"
     ]
    }
   ],
   "source": [
    "pipeline_ET = make_pipeline(StandardScaler(), ExtraTreeClassifier())\n",
    "pipeline_ET.fit(X_train, y_train)\n",
    "pred_ET = pipeline_ET.predict(X_test)\n",
    "print(classification_report(y_test,pred_ET))"
   ]
  },
  {
   "cell_type": "markdown",
   "id": "556747d5",
   "metadata": {},
   "source": [
    "## Section 3: Comparative Analysis"
   ]
  },
  {
   "cell_type": "code",
   "execution_count": 90,
   "id": "8bb26923",
   "metadata": {},
   "outputs": [
    {
     "data": {
      "text/html": [
       "<div>\n",
       "<style scoped>\n",
       "    .dataframe tbody tr th:only-of-type {\n",
       "        vertical-align: middle;\n",
       "    }\n",
       "\n",
       "    .dataframe tbody tr th {\n",
       "        vertical-align: top;\n",
       "    }\n",
       "\n",
       "    .dataframe thead th {\n",
       "        text-align: right;\n",
       "    }\n",
       "</style>\n",
       "<table border=\"1\" class=\"dataframe\">\n",
       "  <thead>\n",
       "    <tr style=\"text-align: right;\">\n",
       "      <th></th>\n",
       "      <th>Algorithm</th>\n",
       "      <th>Player Ratings (train_test_split)</th>\n",
       "      <th>Player Ratings (normal_split)</th>\n",
       "      <th>Match Data (train_test_split)</th>\n",
       "      <th>Match Data (normal_split)</th>\n",
       "    </tr>\n",
       "  </thead>\n",
       "  <tbody>\n",
       "    <tr>\n",
       "      <th>0</th>\n",
       "      <td>Logistic Regression</td>\n",
       "      <td>0.62</td>\n",
       "      <td>0.84</td>\n",
       "      <td>0.91</td>\n",
       "      <td>0.97</td>\n",
       "    </tr>\n",
       "    <tr>\n",
       "      <th>1</th>\n",
       "      <td>SGD Classifier</td>\n",
       "      <td>0.69</td>\n",
       "      <td>0.72</td>\n",
       "      <td>0.88</td>\n",
       "      <td>0.84</td>\n",
       "    </tr>\n",
       "    <tr>\n",
       "      <th>2</th>\n",
       "      <td>SVC Linear</td>\n",
       "      <td>0.56</td>\n",
       "      <td>0.81</td>\n",
       "      <td>0.84</td>\n",
       "      <td>0.94</td>\n",
       "    </tr>\n",
       "    <tr>\n",
       "      <th>3</th>\n",
       "      <td>Random Forest</td>\n",
       "      <td>0.62</td>\n",
       "      <td>0.78</td>\n",
       "      <td>0.97</td>\n",
       "      <td>0.97</td>\n",
       "    </tr>\n",
       "    <tr>\n",
       "      <th>4</th>\n",
       "      <td>Extra Tree</td>\n",
       "      <td>0.72</td>\n",
       "      <td>0.50</td>\n",
       "      <td>0.91</td>\n",
       "      <td>0.91</td>\n",
       "    </tr>\n",
       "  </tbody>\n",
       "</table>\n",
       "</div>"
      ],
      "text/plain": [
       "             Algorithm  Player Ratings (train_test_split)  \\\n",
       "0  Logistic Regression                               0.62   \n",
       "1       SGD Classifier                               0.69   \n",
       "2           SVC Linear                               0.56   \n",
       "3        Random Forest                               0.62   \n",
       "4           Extra Tree                               0.72   \n",
       "\n",
       "   Player Ratings (normal_split)  Match Data (train_test_split)  \\\n",
       "0                           0.84                           0.91   \n",
       "1                           0.72                           0.88   \n",
       "2                           0.81                           0.84   \n",
       "3                           0.78                           0.97   \n",
       "4                           0.50                           0.91   \n",
       "\n",
       "   Match Data (normal_split)  \n",
       "0                       0.97  \n",
       "1                       0.84  \n",
       "2                       0.94  \n",
       "3                       0.97  \n",
       "4                       0.91  "
      ]
     },
     "execution_count": 90,
     "metadata": {},
     "output_type": "execute_result"
    }
   ],
   "source": [
    "data = {\n",
    "    \"Algorithm\": [\"Logistic Regression\", \"SGD Classifier\", \"SVC Linear\", \"Random Forest\", \"Extra Tree\"],\n",
    "    \"Player Ratings (train_test_split)\": [0.62, 0.69, 0.56, 0.62, 0.72],\n",
    "    \"Player Ratings (normal_split)\": [0.84, 0.72, 0.81, 0.78, 0.50],\n",
    "    \"Match Data (train_test_split)\": [0.91, 0.88, 0.84, 0.97, 0.91],\n",
    "    \"Match Data (normal_split)\": [0.97, 0.84, 0.94, 0.97, 0.91]\n",
    "}\n",
    "\n",
    "df = pd.DataFrame(data)\n",
    "df.head()"
   ]
  },
  {
   "cell_type": "code",
   "execution_count": null,
   "id": "0380ac09",
   "metadata": {},
   "outputs": [],
   "source": []
  }
 ],
 "metadata": {
  "kernelspec": {
   "display_name": "Python 3 (ipykernel)",
   "language": "python",
   "name": "python3"
  },
  "language_info": {
   "codemirror_mode": {
    "name": "ipython",
    "version": 3
   },
   "file_extension": ".py",
   "mimetype": "text/x-python",
   "name": "python",
   "nbconvert_exporter": "python",
   "pygments_lexer": "ipython3",
   "version": "3.9.12"
  }
 },
 "nbformat": 4,
 "nbformat_minor": 5
}
